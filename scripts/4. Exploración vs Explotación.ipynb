{
 "cells": [
  {
   "cell_type": "markdown",
   "metadata": {},
   "source": [
    "Para este challenge te proponemos hacer un diseño y propuesta de experimentación en producción y te dejamos algunas preguntas a modo de guia:\n",
    "\n",
    "-  ¿Que tipo de enfoque utilizar para definir en que % de posiciones explorar y en que % explotar?\n",
    "- ¿Qué métrica usarías para medir este experimento?\n",
    "-  ¿Cómo aprovecharías la interacción y el feedback de los usuarios?"
   ]
  },
  {
   "cell_type": "markdown",
   "metadata": {},
   "source": [
    "- Empezar con una proporción random\n",
    "- Medir el feedback de usuario, +0.2 por hover, +0.6 por click, +1 por comprar??\n",
    "- Hacer varias pruebas y así"
   ]
  },
  {
   "cell_type": "code",
   "execution_count": null,
   "metadata": {},
   "outputs": [],
   "source": []
  }
 ],
 "metadata": {
  "language_info": {
   "name": "python"
  }
 },
 "nbformat": 4,
 "nbformat_minor": 2
}
